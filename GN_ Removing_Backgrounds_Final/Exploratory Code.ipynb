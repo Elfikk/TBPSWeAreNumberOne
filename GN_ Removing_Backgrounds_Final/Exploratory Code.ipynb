{
 "cells": [
  {
   "cell_type": "code",
   "execution_count": 1,
   "metadata": {},
   "outputs": [],
   "source": [
    "import pandas as pd"
   ]
  },
  {
   "cell_type": "code",
   "execution_count": 10,
   "metadata": {},
   "outputs": [],
   "source": [
    "def high_corrolation_list(num,name_of_background):\n",
    "    corrolation = pd.read_csv('Peaking_Separate_Correlation/continuous_f1_score_{}.csv'.format(name_of_background))\n",
    "    cols = corrolation.columns.tolist()\n",
    "    values = {}\n",
    "    for x in cols:\n",
    "        values[x] = float(corrolation[x])\n",
    "\n",
    "    values = dict(sorted(values.items(), key=lambda item: item[1], reverse=True))\n",
    "\n",
    "    array_list = []\n",
    "    for idx, key in enumerate(values):\n",
    "        if(idx > num):\n",
    "            array_list.append(key)\n",
    "    return array_list"
   ]
  },
  {
   "cell_type": "code",
   "execution_count": 11,
   "metadata": {},
   "outputs": [
    {
     "data": {
      "text/plain": [
       "['mu_plus_ProbNNp',\n",
       " 'B0_M',\n",
       " 'B0_OWNPV_Y',\n",
       " 'Kstar_M',\n",
       " 'J_psi_M',\n",
       " 'q2',\n",
       " 'costhetak',\n",
       " 'mu_plus_ProbNNpi',\n",
       " 'Kstar_PT',\n",
       " 'K_ProbNNpi',\n",
       " 'mu_minus_IPCHI2_OWNPV',\n",
       " 'mu_minus_ProbNNk',\n",
       " 'B0_PT',\n",
       " 'Pi_PZ',\n",
       " 'mu_plus_PT',\n",
       " 'K_PT',\n",
       " 'mu_plus_PX',\n",
       " 'J_psi_PY',\n",
       " 'B0_ENDVERTEX_Y',\n",
       " 'mu_plus_IPCHI2_OWNPV',\n",
       " 'mu_minus_ProbNNpi',\n",
       " 'mu_plus_PY',\n",
       " 'K_PZ',\n",
       " 'Pi_PX',\n",
       " 'J_psi_ENDVERTEX_CHI2',\n",
       " 'B0_FD_OWNPV',\n",
       " 'K_IPCHI2_OWNPV',\n",
       " 'J_psi_PT',\n",
       " 'mu_minus_PX',\n",
       " 'Kstar_P',\n",
       " 'J_psi_PX',\n",
       " 'Kstar_PZ',\n",
       " 'mu_plus_ETA',\n",
       " 'K_ETA',\n",
       " 'K_PHI',\n",
       " 'B0_P',\n",
       " 'mu_plus_P',\n",
       " 'mu_plus_PE',\n",
       " 'mu_minus_PHI',\n",
       " 'mu_plus_PHI',\n",
       " 'K_P',\n",
       " 'K_PE',\n",
       " 'B0_ENDVERTEX_CHI2',\n",
       " 'mu_plus_ProbNNe',\n",
       " 'J_psi_P',\n",
       " 'mu_minus_P',\n",
       " 'Pi_PHI',\n",
       " 'mu_minus_PE',\n",
       " 'J_psi_FDCHI2_OWNPV',\n",
       " 'Pi_PT',\n",
       " 'Pi_ProbNNpi',\n",
       " 'mu_minus_PY',\n",
       " 'Pi_PY',\n",
       " 'K_PX',\n",
       " 'Kstar_PX',\n",
       " 'K_PY',\n",
       " 'B0_PX',\n",
       " 'J_psi_PZ',\n",
       " 'Kstar_FDCHI2_OWNPV',\n",
       " 'B0_OWNPV_Z',\n",
       " 'Kstar_ENDVERTEX_CHI2',\n",
       " 'phi',\n",
       " 'mu_minus_PT',\n",
       " 'Pi_P',\n",
       " 'B0_PZ',\n",
       " 'Pi_IPCHI2_OWNPV',\n",
       " 'Pi_ETA',\n",
       " 'Pi_PE',\n",
       " 'Kstar_PY',\n",
       " 'B0_ENDVERTEX_Z',\n",
       " 'Pi_ProbNNp',\n",
       " 'B0_ENDVERTEX_X',\n",
       " 'B0_FDCHI2_OWNPV',\n",
       " 'mu_minus_ETA',\n",
       " 'mu_minus_ProbNNmu',\n",
       " 'mu_minus_PZ',\n",
       " 'mu_plus_PZ',\n",
       " 'mu_minus_ProbNNp',\n",
       " 'Pi_ProbNNk',\n",
       " 'B0_PY',\n",
       " 'B0_IPCHI2_OWNPV',\n",
       " 'mu_minus_ProbNNe',\n",
       " 'B0_OWNPV_X',\n",
       " 'Pi_ProbNNe',\n",
       " 'Unnamed: 0',\n",
       " 'K_ProbNNe',\n",
       " 'Pi_ProbNNmu',\n",
       " 'B0_DIRA_OWNPV']"
      ]
     },
     "execution_count": 11,
     "metadata": {},
     "output_type": "execute_result"
    }
   ],
   "source": [
    "high_corrolation_list(88,'jpsi_mu_k_swap')"
   ]
  },
  {
   "cell_type": "code",
   "execution_count": null,
   "metadata": {},
   "outputs": [],
   "source": []
  }
 ],
 "metadata": {
  "kernelspec": {
   "display_name": "Python 3.9.10 64-bit",
   "language": "python",
   "name": "python3"
  },
  "language_info": {
   "codemirror_mode": {
    "name": "ipython",
    "version": 3
   },
   "file_extension": ".py",
   "mimetype": "text/x-python",
   "name": "python",
   "nbconvert_exporter": "python",
   "pygments_lexer": "ipython3",
   "version": "3.9.10"
  },
  "orig_nbformat": 4,
  "vscode": {
   "interpreter": {
    "hash": "f9dd5217a0dde95d381641731e639fd09a35f02e990bc29f8ba4a4a2775dc0bd"
   }
  }
 },
 "nbformat": 4,
 "nbformat_minor": 2
}
