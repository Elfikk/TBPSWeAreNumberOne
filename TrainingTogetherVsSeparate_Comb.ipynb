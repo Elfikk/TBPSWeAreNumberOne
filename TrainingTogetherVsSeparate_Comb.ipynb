{
 "cells": [
  {
   "cell_type": "code",
   "execution_count": 114,
   "metadata": {},
   "outputs": [],
   "source": [
    "#AH's code \n",
    "\n",
    "import csv\n",
    "from matplotlib import pyplot as pl\n",
    "import pandas as pd\n",
    "import numpy as np\n",
    "import xgboost as xgb\n",
    "from sklearn.model_selection import train_test_split\n",
    "from sklearn.metrics import accuracy_score\n",
    "from sklearn.metrics import plot_confusion_matrix\n",
    "from sklearn.metrics import confusion_matrix\n",
    "import seaborn as sns"
   ]
  },
  {
   "cell_type": "code",
   "execution_count": 115,
   "metadata": {},
   "outputs": [],
   "source": [
    "#Saving the swap data\n",
    "dataSwap1 = pd.read_csv(\"./data/jpsi_mu_pi_swap.csv\")\n",
    "dataSwap1.loc[:, \"target\"] = 1\n",
    "dataSwap2 = pd.read_csv(\"./data/jpsi_mu_k_swap.csv\")\n",
    "dataSwap2.loc[:, \"target\"] = 1\n",
    "dataSwap3 = pd.read_csv(\"./data/k_pi_swap.csv\")\n",
    "dataSwap3.loc[:, \"target\"] = 1\n",
    "\n",
    "#Saving the signal data\n",
    "dataSignal = pd.read_csv(\"./data/signal.csv\")\n",
    "dataSignal.loc[:, \"target\"] = 0\n",
    "\n",
    "#Combining the files\n",
    "data = dataSwap1.append(dataSignal, ignore_index=True)\n",
    "data = data.append(dataSwap2, ignore_index=True)\n",
    "data = data.append(dataSwap3, ignore_index=True)\n",
    "\n",
    "dataSwap1 = dataSwap1.append(dataSignal, ignore_index=True)\n",
    "dataSwap2 = dataSwap2.append(dataSignal, ignore_index=True)\n",
    "dataSwap3 = dataSwap3.append(dataSignal, ignore_index=True)\n",
    "\n",
    "dataSwap1 = dataSwap1.sample(frac=1)\n",
    "dataSwap2 = dataSwap2.sample(frac=1)\n",
    "dataSwap3 = dataSwap3.sample(frac=1)\n",
    "\n",
    "#Removing the columns with a corelation to the result\n",
    "X1 = dataSwap1.iloc[:, 2:98] #Data \n",
    "y1 = dataSwap1.iloc[:, 100] #Targe\n",
    "\n",
    "X2 = dataSwap2.iloc[:, 2:98] #Data \n",
    "y2 = dataSwap2.iloc[:, 100] #Targe\n",
    "\n",
    "X3 = dataSwap3.iloc[:, 2:100] #Data \n",
    "y3 = dataSwap3.iloc[:, 101] #Targe"
   ]
  },
  {
   "cell_type": "code",
   "execution_count": 116,
   "metadata": {},
   "outputs": [
    {
     "name": "stdout",
     "output_type": "stream",
     "text": [
      "150675    0\n",
      "195310    0\n",
      "291240    0\n",
      "161028    0\n",
      "43581     1\n",
      "         ..\n",
      "163096    0\n",
      "184383    0\n",
      "212984    0\n",
      "165639    0\n",
      "51836     1\n",
      "Name: target, Length: 300000, dtype: int64\n"
     ]
    }
   ],
   "source": [
    "print(y3)"
   ]
  },
  {
   "cell_type": "code",
   "execution_count": 117,
   "metadata": {},
   "outputs": [
    {
     "name": "stderr",
     "output_type": "stream",
     "text": [
      "/opt/anaconda3/lib/python3.8/site-packages/xgboost/sklearn.py:793: UserWarning: `eval_metric` in `fit` method is deprecated for better compatibility with scikit-learn, use `eval_metric` in constructor or`set_params` instead.\n",
      "  warnings.warn(\n",
      "/opt/anaconda3/lib/python3.8/site-packages/xgboost/sklearn.py:793: UserWarning: `early_stopping_rounds` in `fit` method is deprecated for better compatibility with scikit-learn, use `early_stopping_rounds` in constructor or`set_params` instead.\n",
      "  warnings.warn(\n"
     ]
    },
    {
     "name": "stdout",
     "output_type": "stream",
     "text": [
      "[0]\tvalidation_0-logloss:0.43915\n",
      "[1]\tvalidation_0-logloss:0.29881\n",
      "[2]\tvalidation_0-logloss:0.21038\n",
      "[3]\tvalidation_0-logloss:0.15113\n",
      "[4]\tvalidation_0-logloss:0.11020\n",
      "[5]\tvalidation_0-logloss:0.08125\n",
      "[6]\tvalidation_0-logloss:0.06056\n",
      "[7]\tvalidation_0-logloss:0.04557\n",
      "[8]\tvalidation_0-logloss:0.03463\n",
      "[9]\tvalidation_0-logloss:0.02669\n",
      "[10]\tvalidation_0-logloss:0.02086\n",
      "[11]\tvalidation_0-logloss:0.01656\n",
      "[12]\tvalidation_0-logloss:0.01328\n",
      "[13]\tvalidation_0-logloss:0.01082\n",
      "[14]\tvalidation_0-logloss:0.00908\n",
      "[15]\tvalidation_0-logloss:0.00772\n",
      "[16]\tvalidation_0-logloss:0.00677\n",
      "[17]\tvalidation_0-logloss:0.00606\n",
      "[18]\tvalidation_0-logloss:0.00551\n",
      "[19]\tvalidation_0-logloss:0.00509\n",
      "[20]\tvalidation_0-logloss:0.00473\n",
      "[21]\tvalidation_0-logloss:0.00450\n",
      "[22]\tvalidation_0-logloss:0.00432\n",
      "[23]\tvalidation_0-logloss:0.00421\n",
      "[24]\tvalidation_0-logloss:0.00411\n",
      "[25]\tvalidation_0-logloss:0.00407\n",
      "[26]\tvalidation_0-logloss:0.00402\n",
      "[27]\tvalidation_0-logloss:0.00399\n",
      "[28]\tvalidation_0-logloss:0.00396\n",
      "[29]\tvalidation_0-logloss:0.00400\n",
      "[30]\tvalidation_0-logloss:0.00397\n",
      "[31]\tvalidation_0-logloss:0.00395\n",
      "[32]\tvalidation_0-logloss:0.00392\n",
      "[33]\tvalidation_0-logloss:0.00387\n",
      "[34]\tvalidation_0-logloss:0.00385\n",
      "[35]\tvalidation_0-logloss:0.00382\n",
      "[36]\tvalidation_0-logloss:0.00378\n",
      "[37]\tvalidation_0-logloss:0.00379\n",
      "[38]\tvalidation_0-logloss:0.00382\n",
      "[39]\tvalidation_0-logloss:0.00383\n",
      "[40]\tvalidation_0-logloss:0.00382\n",
      "[41]\tvalidation_0-logloss:0.00386\n",
      "[42]\tvalidation_0-logloss:0.00386\n",
      "[43]\tvalidation_0-logloss:0.00388\n",
      "[44]\tvalidation_0-logloss:0.00385\n",
      "[45]\tvalidation_0-logloss:0.00385\n",
      "[46]\tvalidation_0-logloss:0.00385\n",
      "[0]\tvalidation_0-logloss:0.43848\n",
      "[1]\tvalidation_0-logloss:0.29778\n",
      "[2]\tvalidation_0-logloss:0.20907\n",
      "[3]\tvalidation_0-logloss:0.14971\n",
      "[4]\tvalidation_0-logloss:0.10870\n",
      "[5]\tvalidation_0-logloss:0.07972\n",
      "[6]\tvalidation_0-logloss:0.05888\n",
      "[7]\tvalidation_0-logloss:0.04374\n",
      "[8]\tvalidation_0-logloss:0.03271\n",
      "[9]\tvalidation_0-logloss:0.02464\n",
      "[10]\tvalidation_0-logloss:0.01873\n",
      "[11]\tvalidation_0-logloss:0.01443\n",
      "[12]\tvalidation_0-logloss:0.01122\n",
      "[13]\tvalidation_0-logloss:0.00880\n",
      "[14]\tvalidation_0-logloss:0.00704\n",
      "[15]\tvalidation_0-logloss:0.00570\n",
      "[16]\tvalidation_0-logloss:0.00472\n",
      "[17]\tvalidation_0-logloss:0.00398\n",
      "[18]\tvalidation_0-logloss:0.00345\n",
      "[19]\tvalidation_0-logloss:0.00305\n",
      "[20]\tvalidation_0-logloss:0.00274\n",
      "[21]\tvalidation_0-logloss:0.00246\n",
      "[22]\tvalidation_0-logloss:0.00229\n",
      "[23]\tvalidation_0-logloss:0.00214\n",
      "[24]\tvalidation_0-logloss:0.00203\n",
      "[25]\tvalidation_0-logloss:0.00195\n",
      "[26]\tvalidation_0-logloss:0.00190\n",
      "[27]\tvalidation_0-logloss:0.00184\n",
      "[28]\tvalidation_0-logloss:0.00181\n",
      "[29]\tvalidation_0-logloss:0.00177\n",
      "[30]\tvalidation_0-logloss:0.00172\n",
      "[31]\tvalidation_0-logloss:0.00170\n",
      "[32]\tvalidation_0-logloss:0.00166\n",
      "[33]\tvalidation_0-logloss:0.00164\n",
      "[34]\tvalidation_0-logloss:0.00164\n",
      "[35]\tvalidation_0-logloss:0.00162\n",
      "[36]\tvalidation_0-logloss:0.00160\n",
      "[37]\tvalidation_0-logloss:0.00159\n",
      "[38]\tvalidation_0-logloss:0.00157\n",
      "[39]\tvalidation_0-logloss:0.00158\n",
      "[40]\tvalidation_0-logloss:0.00154\n",
      "[41]\tvalidation_0-logloss:0.00153\n",
      "[42]\tvalidation_0-logloss:0.00153\n",
      "[43]\tvalidation_0-logloss:0.00150\n",
      "[44]\tvalidation_0-logloss:0.00150\n",
      "[45]\tvalidation_0-logloss:0.00150\n",
      "[46]\tvalidation_0-logloss:0.00148\n",
      "[47]\tvalidation_0-logloss:0.00147\n",
      "[48]\tvalidation_0-logloss:0.00146\n",
      "[49]\tvalidation_0-logloss:0.00146\n",
      "[50]\tvalidation_0-logloss:0.00146\n",
      "[51]\tvalidation_0-logloss:0.00148\n",
      "[52]\tvalidation_0-logloss:0.00148\n",
      "[53]\tvalidation_0-logloss:0.00148\n",
      "[54]\tvalidation_0-logloss:0.00148\n",
      "[55]\tvalidation_0-logloss:0.00149\n",
      "[56]\tvalidation_0-logloss:0.00148\n",
      "[57]\tvalidation_0-logloss:0.00147\n",
      "[58]\tvalidation_0-logloss:0.00146\n",
      "[0]\tvalidation_0-logloss:0.44508\n",
      "[1]\tvalidation_0-logloss:0.30739\n",
      "[2]\tvalidation_0-logloss:0.22068\n",
      "[3]\tvalidation_0-logloss:0.16267\n",
      "[4]\tvalidation_0-logloss:0.12247\n",
      "[5]\tvalidation_0-logloss:0.09406\n",
      "[6]\tvalidation_0-logloss:0.07327\n",
      "[7]\tvalidation_0-logloss:0.05835\n",
      "[8]\tvalidation_0-logloss:0.04751\n",
      "[9]\tvalidation_0-logloss:0.03913\n",
      "[10]\tvalidation_0-logloss:0.03301\n",
      "[11]\tvalidation_0-logloss:0.02845\n",
      "[12]\tvalidation_0-logloss:0.02502\n",
      "[13]\tvalidation_0-logloss:0.02234\n",
      "[14]\tvalidation_0-logloss:0.02041\n",
      "[15]\tvalidation_0-logloss:0.01893\n",
      "[16]\tvalidation_0-logloss:0.01778\n",
      "[17]\tvalidation_0-logloss:0.01686\n",
      "[18]\tvalidation_0-logloss:0.01624\n",
      "[19]\tvalidation_0-logloss:0.01564\n",
      "[20]\tvalidation_0-logloss:0.01519\n",
      "[21]\tvalidation_0-logloss:0.01479\n",
      "[22]\tvalidation_0-logloss:0.01449\n",
      "[23]\tvalidation_0-logloss:0.01428\n",
      "[24]\tvalidation_0-logloss:0.01412\n",
      "[25]\tvalidation_0-logloss:0.01386\n",
      "[26]\tvalidation_0-logloss:0.01363\n",
      "[27]\tvalidation_0-logloss:0.01353\n",
      "[28]\tvalidation_0-logloss:0.01331\n",
      "[29]\tvalidation_0-logloss:0.01316\n",
      "[30]\tvalidation_0-logloss:0.01316\n",
      "[31]\tvalidation_0-logloss:0.01309\n",
      "[32]\tvalidation_0-logloss:0.01306\n",
      "[33]\tvalidation_0-logloss:0.01304\n",
      "[34]\tvalidation_0-logloss:0.01288\n",
      "[35]\tvalidation_0-logloss:0.01277\n",
      "[36]\tvalidation_0-logloss:0.01276\n",
      "[37]\tvalidation_0-logloss:0.01269\n",
      "[38]\tvalidation_0-logloss:0.01259\n",
      "[39]\tvalidation_0-logloss:0.01262\n",
      "[40]\tvalidation_0-logloss:0.01257\n",
      "[41]\tvalidation_0-logloss:0.01258\n",
      "[42]\tvalidation_0-logloss:0.01260\n",
      "[43]\tvalidation_0-logloss:0.01251\n",
      "[44]\tvalidation_0-logloss:0.01245\n",
      "[45]\tvalidation_0-logloss:0.01244\n",
      "[46]\tvalidation_0-logloss:0.01246\n",
      "[47]\tvalidation_0-logloss:0.01251\n",
      "[48]\tvalidation_0-logloss:0.01245\n",
      "[49]\tvalidation_0-logloss:0.01241\n",
      "[50]\tvalidation_0-logloss:0.01245\n",
      "[51]\tvalidation_0-logloss:0.01247\n",
      "[52]\tvalidation_0-logloss:0.01252\n",
      "[53]\tvalidation_0-logloss:0.01250\n",
      "[54]\tvalidation_0-logloss:0.01257\n",
      "[55]\tvalidation_0-logloss:0.01257\n",
      "[56]\tvalidation_0-logloss:0.01262\n",
      "[57]\tvalidation_0-logloss:0.01261\n",
      "[58]\tvalidation_0-logloss:0.01259\n",
      "[59]\tvalidation_0-logloss:0.01259\n"
     ]
    },
    {
     "data": {
      "text/plain": [
       "XGBClassifier(base_score=0.5, booster='gbtree', callbacks=None,\n",
       "              colsample_bylevel=1, colsample_bynode=1, colsample_bytree=1,\n",
       "              early_stopping_rounds=None, enable_categorical=False,\n",
       "              eval_metric=None, gamma=0, gpu_id=-1, grow_policy='depthwise',\n",
       "              importance_type=None, interaction_constraints='',\n",
       "              learning_rate=0.300000012, max_bin=256, max_cat_to_onehot=4,\n",
       "              max_delta_step=0, max_depth=6, max_leaves=0, min_child_weight=1,\n",
       "              missing=nan, monotone_constraints='()', n_estimators=100,\n",
       "              n_jobs=0, num_parallel_tree=1, predictor='auto', random_state=42,\n",
       "              reg_alpha=0, reg_lambda=1, ...)"
      ]
     },
     "execution_count": 117,
     "metadata": {},
     "output_type": "execute_result"
    }
   ],
   "source": [
    "#Doing the machine learning using xgboost and binary logistic\n",
    "seed = 42\n",
    "test_size = 0.2\n",
    "\n",
    "#Creating the three different data sets\n",
    "X_train1, X_test1, y_train1, y_test1 = train_test_split(X1, y1, test_size=test_size, random_state=seed, stratify = y1)\n",
    "X_train2, X_test2, y_train2, y_test2 = train_test_split(X2, y2, test_size=test_size, random_state=seed, stratify = y2)\n",
    "X_train3, X_test3, y_train3, y_test3 = train_test_split(X3, y3, test_size=test_size, random_state=seed, stratify = y3)\n",
    "\n",
    "#ML process\n",
    "model1 = xgb.XGBClassifier(objective=\"binary:logistic\", missing=np.nan, seed=42)\n",
    "model2 = xgb.XGBClassifier(objective=\"binary:logistic\", missing=np.nan, seed=42)\n",
    "model3 = xgb.XGBClassifier(objective=\"binary:logistic\", missing=np.nan, seed=42)\n",
    "\n",
    "model1.fit(X_train1,y_train1,verbose=True,early_stopping_rounds=10,eval_metric=\"logloss\",eval_set=[(X_test1, y_test1)])\n",
    "model2.fit(X_train2,y_train2,verbose=True,early_stopping_rounds=10,eval_metric=\"logloss\",eval_set=[(X_test2, y_test2)])\n",
    "model3.fit(X_train3,y_train3,verbose=True,early_stopping_rounds=10,eval_metric=\"logloss\",eval_set=[(X_test3, y_test3)])"
   ]
  },
  {
   "cell_type": "code",
   "execution_count": 118,
   "metadata": {},
   "outputs": [
    {
     "data": {
      "text/plain": [
       "<sklearn.metrics._plot.confusion_matrix.ConfusionMatrixDisplay at 0x7fd40e555f40>"
      ]
     },
     "execution_count": 118,
     "metadata": {},
     "output_type": "execute_result"
    },
    {
     "data": {
      "image/png": "[encoded data removed]",
      "text/plain": [
       "<Figure size 432x288 with 2 Axes>"
      ]
     },
     "metadata": {
      "needs_background": "light"
     },
     "output_type": "display_data"
    },
    {
     "data": {
      "image/png": "[encoded data removed]",
      "text/plain": [
       "<Figure size 432x288 with 2 Axes>"
      ]
     },
     "metadata": {
      "needs_background": "light"
     },
     "output_type": "display_data"
    },
    {
     "data": {
      "image/png": "[encoded data removed]",
      "text/plain": [
       "<Figure size 432x288 with 2 Axes>"
      ]
     },
     "metadata": {
      "needs_background": "light"
     },
     "output_type": "display_data"
    }
   ],
   "source": [
    "plot_confusion_matrix(model1, X_test1, y_test1, values_format=\"d\", display_labels=[\"Signal\", \"Comb jpsi_mu_pi_swap\"])\n",
    "plot_confusion_matrix(model2, X_test2, y_test2, values_format=\"d\", display_labels=[\"Signal\", \"Comb jpsi_mu_k_swap\"])\n",
    "plot_confusion_matrix(model3, X_test3, y_test3, values_format=\"d\", display_labels=[\"Signal\", \"Comb k_pi_swap\"])"
   ]
  },
  {
   "cell_type": "code",
   "execution_count": null,
   "metadata": {},
   "outputs": [],
   "source": []
  },
  {
   "cell_type": "code",
   "execution_count": 125,
   "metadata": {},
   "outputs": [],
   "source": [
    "#Prediction for the first model\n",
    "y_pred1 = model1.predict(data.iloc[:, 2:98])\n",
    "\n",
    "#Selecting the masses using the model\n",
    "mass = []\n",
    "for i in range(len(y_pred1)):\n",
    "    if y_pred1[i] == 1:\n",
    "        mass.append(data[\"B0_M\"][i])\n",
    "        \n",
    "#Prediction for the second model\n",
    "y_pred2 = model2.predict(data.iloc[:, 2:98])\n",
    "\n",
    "#Selecting the masses using the model\n",
    "mass = []\n",
    "for i in range(len(y_pred2)):\n",
    "    if y_pred2[i] == 1:\n",
    "        mass.append(data[\"B0_M\"][i])\n",
    "\n",
    "#Prediction for the third model\n",
    "y_pred3 = model3.predict(data.iloc[:, 2:100])\n",
    "\n",
    "#Selecting the masses using the model\n",
    "mass = []\n",
    "for i in range(len(y_pred3)):\n",
    "    if y_pred3[i] == 1:\n",
    "        mass.append(data[\"B0_M\"][i])"
   ]
  },
  {
   "cell_type": "code",
   "execution_count": 138,
   "metadata": {
    "scrolled": false
   },
   "outputs": [
    {
     "name": "stdout",
     "output_type": "stream",
     "text": [
      "100\n",
      "101\n"
     ]
    },
    {
     "data": {
      "image/png": "[encoded data removed]",
      "text/plain": [
       "<Figure size 432x288 with 1 Axes>"
      ]
     },
     "metadata": {
      "needs_background": "light"
     },
     "output_type": "display_data"
    }
   ],
   "source": [
    "#All the masses\n",
    "x, y=np.histogram(data[\"B0_M\"], bins=100, density = True)\n",
    "\n",
    "#Signal mass comparison\n",
    "x1, y1 = np.histogram(dataSignal[\"B0_M\"], bins=100, density = True)\n",
    "\n",
    "#Plotting the histogram of mass\n",
    "freq, edges = np.histogram(mass, bins=100, density = True)\n",
    "\n",
    "centres = (edges[:-1] + edges[1:])/2.\n",
    "#pl.errorbar(centres, freq, yerr=np.sqrt(freq), ls = 'none', elinewidth=1)\n",
    "\n",
    "centres = (y[:-1] + y[1:])/2.\n",
    "pl.hist(data[\"B0_M\"], color=\"white\", ec=\"turquoise\", bins=100, label=\"With comb\", histtype='step', density = True)\n",
    "\n",
    "centres = (y1[:-1] + y1[1:])/2.\n",
    "hist, bins, idk = pl.hist(dataSignal[\"B0_M\"], color=\"white\", ec=\"magenta\", bins=100, label=\"Pure signal\", histtype='step', density = True)\n",
    "pl.hist(mass, color=\"white\", ec=\"purple\", bins=100, label=\"Without comb\", histtype='step', density = True)\n",
    "\n",
    "#dataSignal[\"B0_M\"] = dataSignal[\"B0_M\"].to_numpy\n",
    "\n",
    "print(len(centres))\n",
    "print(len(edges))\n",
    "pl.xlabel(r'm($K^{+}\\pi^{-}\\mu^{+}\\mu^{-}$) [GeV/$c^{2}$]')\n",
    "pl.ylabel('Frequency')\n",
    "#sns.kdeplot(dataSignal[\"B0_M\"], color = 'green', bw = 0.1)\n",
    "#sns.kdeplot(data[\"B0_M\"], color = 'red', bw = 0.1)\n",
    "#sns.kdeplot(energy_list, bw = float(bwc))\n",
    "pl.legend()\n",
    "pl.show()"
   ]
  },
  {
   "cell_type": "code",
   "execution_count": 144,
   "metadata": {
    "scrolled": true
   },
   "outputs": [
    {
     "name": "stdout",
     "output_type": "stream",
     "text": [
      "   mu_plus_ProbNNk  mu_plus_ProbNNpi  mu_plus_ProbNNmu  mu_plus_ProbNNe  \\\n",
      "0         0.001944          0.015589          0.995556         0.000004   \n",
      "1         0.000745          0.001472          0.999549         0.000064   \n",
      "2         0.000261          0.018191          0.952357         0.000017   \n",
      "3         0.000216          0.025044          0.998964         0.000004   \n",
      "4         0.000050          0.004909          0.978605         0.000002   \n",
      "\n",
      "   mu_plus_ProbNNp  mu_plus_P    mu_plus_PT  mu_plus_ETA  mu_plus_PHI  \\\n",
      "0     2.742860e-06   43788.30   3210.990482     3.304587    -1.306213   \n",
      "1     1.288878e-07   49720.44  10378.448756     2.248757    -2.152820   \n",
      "2     5.978055e-06   13592.56    764.233844     3.570760     2.111663   \n",
      "3     5.679159e-06   40268.11   3507.462622     3.131912     1.335982   \n",
      "4     7.892467e-07   32221.27   2017.780256     3.462794     0.350649   \n",
      "\n",
      "     mu_plus_PE  ...  B0_OWNPV_Y  B0_OWNPV_Z  B0_FD_OWNPV  B0_ID  \\\n",
      "0  43788.427473  ...     -0.1869    127.8455    15.160370    511   \n",
      "1  49720.552264  ...     -0.1779     37.4792     6.582207    511   \n",
      "2  13592.970648  ...     -0.2285     19.4380     5.052531   -511   \n",
      "3  40268.248617  ...     -0.2087     33.8038     9.380453   -511   \n",
      "4  32221.443234  ...     -0.1428     -3.5919    29.924696    511   \n",
      "\n",
      "   B0_ENDVERTEX_X  B0_ENDVERTEX_Y  B0_ENDVERTEX_Z         q2       phi  \\\n",
      "0        0.584360       -1.800024      142.917837  12.101789  1.489128   \n",
      "1        0.072965       -1.035671       43.960127  13.645625 -2.875874   \n",
      "2        0.547236       -0.192283       24.480481   4.495759 -0.851008   \n",
      "3        1.098148        0.050653       43.176427   7.917859  1.598982   \n",
      "4        1.881843        0.348304       26.311199   7.197984  2.524963   \n",
      "\n",
      "   costhetal  \n",
      "0   0.398204  \n",
      "1   0.811715  \n",
      "2  -0.663965  \n",
      "3   0.837302  \n",
      "4  -0.826606  \n",
      "\n",
      "[5 rows x 96 columns]\n"
     ]
    }
   ],
   "source": [
    "#making separate dataset which trains on all the swap files at once - beginning of TS code\n",
    "\n",
    "#Saving the swap data\n",
    "dataSwap1 = pd.read_csv(\"./data/jpsi_mu_pi_swap.csv\")\n",
    "dataSwap1.loc[:, \"target\"] = 1\n",
    "dataSwap2 = pd.read_csv(\"./data/jpsi_mu_k_swap.csv\")\n",
    "dataSwap2.loc[:, \"target\"] = 1\n",
    "dataSwap3 = pd.read_csv(\"./data/k_pi_swap.csv\")\n",
    "dataSwap3.loc[:, \"target\"] = 1\n",
    "\n",
    "#Saving the signal data\n",
    "dataSignal = pd.read_csv(\"./data/signal.csv\")\n",
    "dataSignal.loc[:, \"target\"] = 0\n",
    "\n",
    "#Combining the files\n",
    "data = dataSwap1.append(dataSignal, ignore_index=True)\n",
    "data = data.append(dataSwap2, ignore_index=True)\n",
    "data = data.append(dataSwap3, ignore_index=True)\n",
    "\n",
    "dataSwap1 = dataSwap1.append(dataSignal, ignore_index=True)\n",
    "dataSwap2 = dataSwap2.append(dataSignal, ignore_index=True)\n",
    "dataSwap3 = dataSwap3.append(dataSignal, ignore_index=True)\n",
    "\n",
    "dataSwap1 = dataSwap1.sample(frac=1)\n",
    "dataSwap2 = dataSwap2.sample(frac=1)\n",
    "dataSwap3 = dataSwap3.sample(frac=1)\n",
    "\n",
    "#Removing the columns with a corelation to the result\n",
    "X1 = dataSwap1.iloc[:, 2:98] #Data \n",
    "y1 = dataSwap1.iloc[:, 100] #Targe\n",
    "\n",
    "X2 = dataSwap2.iloc[:, 2:98] #Data \n",
    "y2 = dataSwap2.iloc[:, 100] #Targe\n",
    "\n",
    "X3 = dataSwap3.iloc[:, 2:100] #Data \n",
    "y3 = dataSwap3.iloc[:, 101] #Targe\n",
    "\n",
    "#combining remaining columns for total training set\n",
    "XT = X1.append(X2, ignore_index=True)\n",
    "XT = XT.append(X2, ignore_index=True)\n",
    "yT = y1.append(y2, ignore_index=True)\n",
    "yT = yT.append(y2, ignore_index=True)\n",
    "\n",
    "print(XT.head())"
   ]
  },
  {
   "cell_type": "code",
   "execution_count": 145,
   "metadata": {},
   "outputs": [
    {
     "name": "stderr",
     "output_type": "stream",
     "text": [
      "/opt/anaconda3/lib/python3.8/site-packages/xgboost/sklearn.py:793: UserWarning: `eval_metric` in `fit` method is deprecated for better compatibility with scikit-learn, use `eval_metric` in constructor or`set_params` instead.\n",
      "  warnings.warn(\n",
      "/opt/anaconda3/lib/python3.8/site-packages/xgboost/sklearn.py:793: UserWarning: `early_stopping_rounds` in `fit` method is deprecated for better compatibility with scikit-learn, use `early_stopping_rounds` in constructor or`set_params` instead.\n",
      "  warnings.warn(\n"
     ]
    },
    {
     "name": "stdout",
     "output_type": "stream",
     "text": [
      "[0]\tvalidation_0-logloss:0.43950\n",
      "[1]\tvalidation_0-logloss:0.29914\n",
      "[2]\tvalidation_0-logloss:0.21058\n",
      "[3]\tvalidation_0-logloss:0.15131\n",
      "[4]\tvalidation_0-logloss:0.11025\n",
      "[5]\tvalidation_0-logloss:0.08089\n",
      "[6]\tvalidation_0-logloss:0.05997\n",
      "[7]\tvalidation_0-logloss:0.04480\n",
      "[8]\tvalidation_0-logloss:0.03372\n",
      "[9]\tvalidation_0-logloss:0.02558\n",
      "[10]\tvalidation_0-logloss:0.01955\n",
      "[11]\tvalidation_0-logloss:0.01511\n",
      "[12]\tvalidation_0-logloss:0.01181\n",
      "[13]\tvalidation_0-logloss:0.00936\n",
      "[14]\tvalidation_0-logloss:0.00753\n",
      "[15]\tvalidation_0-logloss:0.00612\n",
      "[16]\tvalidation_0-logloss:0.00507\n",
      "[17]\tvalidation_0-logloss:0.00425\n",
      "[18]\tvalidation_0-logloss:0.00365\n",
      "[19]\tvalidation_0-logloss:0.00317\n",
      "[20]\tvalidation_0-logloss:0.00277\n",
      "[21]\tvalidation_0-logloss:0.00247\n",
      "[22]\tvalidation_0-logloss:0.00223\n",
      "[23]\tvalidation_0-logloss:0.00205\n",
      "[24]\tvalidation_0-logloss:0.00191\n",
      "[25]\tvalidation_0-logloss:0.00181\n",
      "[26]\tvalidation_0-logloss:0.00169\n",
      "[27]\tvalidation_0-logloss:0.00160\n",
      "[28]\tvalidation_0-logloss:0.00151\n",
      "[29]\tvalidation_0-logloss:0.00146\n",
      "[30]\tvalidation_0-logloss:0.00140\n",
      "[31]\tvalidation_0-logloss:0.00134\n",
      "[32]\tvalidation_0-logloss:0.00130\n",
      "[33]\tvalidation_0-logloss:0.00127\n",
      "[34]\tvalidation_0-logloss:0.00122\n",
      "[35]\tvalidation_0-logloss:0.00118\n",
      "[36]\tvalidation_0-logloss:0.00114\n",
      "[37]\tvalidation_0-logloss:0.00113\n",
      "[38]\tvalidation_0-logloss:0.00109\n",
      "[39]\tvalidation_0-logloss:0.00107\n",
      "[40]\tvalidation_0-logloss:0.00103\n",
      "[41]\tvalidation_0-logloss:0.00101\n",
      "[42]\tvalidation_0-logloss:0.00100\n",
      "[43]\tvalidation_0-logloss:0.00099\n",
      "[44]\tvalidation_0-logloss:0.00098\n",
      "[45]\tvalidation_0-logloss:0.00096\n",
      "[46]\tvalidation_0-logloss:0.00096\n",
      "[47]\tvalidation_0-logloss:0.00095\n",
      "[48]\tvalidation_0-logloss:0.00093\n",
      "[49]\tvalidation_0-logloss:0.00092\n",
      "[50]\tvalidation_0-logloss:0.00091\n",
      "[51]\tvalidation_0-logloss:0.00091\n",
      "[52]\tvalidation_0-logloss:0.00090\n",
      "[53]\tvalidation_0-logloss:0.00089\n",
      "[54]\tvalidation_0-logloss:0.00088\n",
      "[55]\tvalidation_0-logloss:0.00088\n",
      "[56]\tvalidation_0-logloss:0.00087\n",
      "[57]\tvalidation_0-logloss:0.00086\n",
      "[58]\tvalidation_0-logloss:0.00085\n",
      "[59]\tvalidation_0-logloss:0.00084\n",
      "[60]\tvalidation_0-logloss:0.00083\n",
      "[61]\tvalidation_0-logloss:0.00083\n",
      "[62]\tvalidation_0-logloss:0.00083\n",
      "[63]\tvalidation_0-logloss:0.00082\n",
      "[64]\tvalidation_0-logloss:0.00081\n",
      "[65]\tvalidation_0-logloss:0.00081\n",
      "[66]\tvalidation_0-logloss:0.00081\n",
      "[67]\tvalidation_0-logloss:0.00081\n",
      "[68]\tvalidation_0-logloss:0.00081\n",
      "[69]\tvalidation_0-logloss:0.00081\n",
      "[70]\tvalidation_0-logloss:0.00081\n",
      "[71]\tvalidation_0-logloss:0.00080\n",
      "[72]\tvalidation_0-logloss:0.00079\n",
      "[73]\tvalidation_0-logloss:0.00080\n",
      "[74]\tvalidation_0-logloss:0.00079\n",
      "[75]\tvalidation_0-logloss:0.00079\n",
      "[76]\tvalidation_0-logloss:0.00079\n",
      "[77]\tvalidation_0-logloss:0.00079\n",
      "[78]\tvalidation_0-logloss:0.00079\n",
      "[79]\tvalidation_0-logloss:0.00079\n",
      "[80]\tvalidation_0-logloss:0.00079\n",
      "[81]\tvalidation_0-logloss:0.00079\n",
      "[82]\tvalidation_0-logloss:0.00078\n",
      "[83]\tvalidation_0-logloss:0.00078\n",
      "[84]\tvalidation_0-logloss:0.00078\n",
      "[85]\tvalidation_0-logloss:0.00077\n",
      "[86]\tvalidation_0-logloss:0.00077\n",
      "[87]\tvalidation_0-logloss:0.00077\n",
      "[88]\tvalidation_0-logloss:0.00077\n",
      "[89]\tvalidation_0-logloss:0.00077\n",
      "[90]\tvalidation_0-logloss:0.00077\n",
      "[91]\tvalidation_0-logloss:0.00076\n",
      "[92]\tvalidation_0-logloss:0.00076\n",
      "[93]\tvalidation_0-logloss:0.00077\n",
      "[94]\tvalidation_0-logloss:0.00076\n",
      "[95]\tvalidation_0-logloss:0.00076\n",
      "[96]\tvalidation_0-logloss:0.00076\n",
      "[97]\tvalidation_0-logloss:0.00076\n",
      "[98]\tvalidation_0-logloss:0.00076\n",
      "[99]\tvalidation_0-logloss:0.00076\n"
     ]
    },
    {
     "data": {
      "text/plain": [
       "XGBClassifier(base_score=0.5, booster='gbtree', callbacks=None,\n",
       "              colsample_bylevel=1, colsample_bynode=1, colsample_bytree=1,\n",
       "              early_stopping_rounds=None, enable_categorical=False,\n",
       "              eval_metric=None, gamma=0, gpu_id=-1, grow_policy='depthwise',\n",
       "              importance_type=None, interaction_constraints='',\n",
       "              learning_rate=0.300000012, max_bin=256, max_cat_to_onehot=4,\n",
       "              max_delta_step=0, max_depth=6, max_leaves=0, min_child_weight=1,\n",
       "              missing=nan, monotone_constraints='()', n_estimators=100,\n",
       "              n_jobs=0, num_parallel_tree=1, predictor='auto', random_state=42,\n",
       "              reg_alpha=0, reg_lambda=1, ...)"
      ]
     },
     "execution_count": 145,
     "metadata": {},
     "output_type": "execute_result"
    }
   ],
   "source": [
    "#Doing the machine learning using xgboost and binary logistic\n",
    "seed = 42\n",
    "test_size = 0.2\n",
    "\n",
    "#Creating the three different data sets\n",
    "X_trainT, X_testT, y_trainT, y_testT = train_test_split(XT, yT, test_size=test_size, random_state=seed, stratify = yT)\n",
    "\n",
    "#ML process\n",
    "modelT = xgb.XGBClassifier(objective=\"binary:logistic\", missing=np.nan, seed=42)\n",
    "\n",
    "modelT.fit(X_trainT,y_trainT,verbose=True,early_stopping_rounds=10,eval_metric=\"logloss\",eval_set=[(X_testT, y_testT)])\n"
   ]
  },
  {
   "cell_type": "code",
   "execution_count": 146,
   "metadata": {},
   "outputs": [
    {
     "data": {
      "text/plain": [
       "<sklearn.metrics._plot.confusion_matrix.ConfusionMatrixDisplay at 0x7fd410939460>"
      ]
     },
     "execution_count": 146,
     "metadata": {},
     "output_type": "execute_result"
    },
    {
     "data": {
      "image/png": "[encoded data removed]",
      "text/plain": [
       "<Figure size 432x288 with 2 Axes>"
      ]
     },
     "metadata": {
      "needs_background": "light"
     },
     "output_type": "display_data"
    }
   ],
   "source": [
    "plot_confusion_matrix(modelT, X_testT, y_testT, values_format=\"d\", display_labels=[\"Signal\", \"Combined Swap Files\"])"
   ]
  },
  {
   "cell_type": "code",
   "execution_count": 158,
   "metadata": {},
   "outputs": [],
   "source": [
    "#Prediction for the first model\n",
    "y_predT = modelT.predict(dataT.iloc[:, 2:98])\n",
    "\n",
    "#Selecting the masses using the model\n",
    "massT = []\n",
    "for i in range(len(y_predT)):\n",
    "    if y_predT[i] == 1:\n",
    "        massT.append(dataT[\"B0_M\"][i])\n",
    "        "
   ]
  },
  {
   "cell_type": "code",
   "execution_count": 148,
   "metadata": {},
   "outputs": [
    {
     "name": "stdout",
     "output_type": "stream",
     "text": [
      "100\n",
      "101\n"
     ]
    },
    {
     "data": {
      "image/png": "[encoded data removed]",
      "text/plain": [
       "<Figure size 432x288 with 1 Axes>"
      ]
     },
     "metadata": {
      "needs_background": "light"
     },
     "output_type": "display_data"
    }
   ],
   "source": [
    "#All the masses\n",
    "x0, y0=np.histogram(dataT[\"B0_M\"], bins=100, density = True)\n",
    "\n",
    "#Signal mass comparison\n",
    "x1, y1 = np.histogram(dataSignal[\"B0_M\"], bins=100, density = True)\n",
    "\n",
    "#Plotting the histogram of mass\n",
    "freqT, edgesT = np.histogram(massT, bins=100, density = True)\n",
    "\n",
    "centresT = (edgesT[:-1] + edgesT[1:])/2.\n",
    "#pl.errorbar(centres, freq, yerr=np.sqrt(freq), ls = 'none', elinewidth=1)\n",
    "\n",
    "centresT = (y0[:-1] + y0[1:])/2.\n",
    "pl.hist(dataT[\"B0_M\"], color=\"white\", ec=\"turquoise\", bins=100, label=\"With comb\", histtype='step', density = True)\n",
    "\n",
    "centresT = (y1[:-1] + y1[1:])/2.\n",
    "hist, bins, idk = pl.hist(dataSignal[\"B0_M\"], color=\"white\", ec=\"magenta\", bins=100, label=\"Pure signal\", histtype='step', density = True)\n",
    "pl.hist(massT, color=\"white\", ec=\"purple\", bins=100, label=\"Without comb\", histtype='step', density = True)\n",
    "\n",
    "#dataSignal[\"B0_M\"] = dataSignal[\"B0_M\"].to_numpy\n",
    "\n",
    "pl.xlabel(r'm($K^{+}\\pi^{-}\\mu^{+}\\mu^{-}$) [GeV/$c^{2}$]')\n",
    "pl.ylabel('Frequency')\n",
    "#sns.kdeplot(dataSignal[\"B0_M\"], color = 'green', bw = 0.1)\n",
    "#sns.kdeplot(data[\"B0_M\"], color = 'red', bw = 0.1)\n",
    "#sns.kdeplot(energy_list, bw = float(bwc))\n",
    "pl.legend()\n",
    "pl.show()"
   ]
  },
  {
   "cell_type": "code",
   "execution_count": 1,
   "metadata": {},
   "outputs": [
    {
     "ename": "NameError",
     "evalue": "name 'np' is not defined",
     "output_type": "error",
     "traceback": [
      "\u001b[0;31m---------------------------------------------------------------------------\u001b[0m",
      "\u001b[0;31mNameError\u001b[0m                                 Traceback (most recent call last)",
      "\u001b[0;32m<ipython-input-1-e94c8a8bd8b8>\u001b[0m in \u001b[0;36m<module>\u001b[0;34m\u001b[0m\n\u001b[1;32m      1\u001b[0m \u001b[0;31m#All the masses\u001b[0m\u001b[0;34m\u001b[0m\u001b[0;34m\u001b[0m\u001b[0;34m\u001b[0m\u001b[0m\n\u001b[0;32m----> 2\u001b[0;31m \u001b[0mx\u001b[0m\u001b[0;34m,\u001b[0m \u001b[0my\u001b[0m\u001b[0;34m=\u001b[0m\u001b[0mnp\u001b[0m\u001b[0;34m.\u001b[0m\u001b[0mhistogram\u001b[0m\u001b[0;34m(\u001b[0m\u001b[0mdata\u001b[0m\u001b[0;34m[\u001b[0m\u001b[0;34m\"B0_M\"\u001b[0m\u001b[0;34m]\u001b[0m\u001b[0;34m,\u001b[0m \u001b[0mbins\u001b[0m\u001b[0;34m=\u001b[0m\u001b[0;36m100\u001b[0m\u001b[0;34m,\u001b[0m \u001b[0mdensity\u001b[0m \u001b[0;34m=\u001b[0m \u001b[0;32mTrue\u001b[0m\u001b[0;34m)\u001b[0m\u001b[0;34m\u001b[0m\u001b[0;34m\u001b[0m\u001b[0m\n\u001b[0m\u001b[1;32m      3\u001b[0m \u001b[0;34m\u001b[0m\u001b[0m\n\u001b[1;32m      4\u001b[0m \u001b[0;31m#Signal mass comparison\u001b[0m\u001b[0;34m\u001b[0m\u001b[0;34m\u001b[0m\u001b[0;34m\u001b[0m\u001b[0m\n\u001b[1;32m      5\u001b[0m \u001b[0mx1\u001b[0m\u001b[0;34m,\u001b[0m \u001b[0my1\u001b[0m \u001b[0;34m=\u001b[0m \u001b[0mnp\u001b[0m\u001b[0;34m.\u001b[0m\u001b[0mhistogram\u001b[0m\u001b[0;34m(\u001b[0m\u001b[0mdataSignal\u001b[0m\u001b[0;34m[\u001b[0m\u001b[0;34m\"B0_M\"\u001b[0m\u001b[0;34m]\u001b[0m\u001b[0;34m,\u001b[0m \u001b[0mbins\u001b[0m\u001b[0;34m=\u001b[0m\u001b[0;36m100\u001b[0m\u001b[0;34m,\u001b[0m \u001b[0mdensity\u001b[0m \u001b[0;34m=\u001b[0m \u001b[0;32mTrue\u001b[0m\u001b[0;34m)\u001b[0m\u001b[0;34m\u001b[0m\u001b[0;34m\u001b[0m\u001b[0m\n",
      "\u001b[0;31mNameError\u001b[0m: name 'np' is not defined"
     ]
    }
   ],
   "source": [
    "\n",
    "#All the masses\n",
    "x, y=np.histogram(data[\"B0_M\"], bins=100, density = True)\n",
    "\n",
    "#Signal mass comparison\n",
    "x1, y1 = np.histogram(dataSignal[\"B0_M\"], bins=100, density = True)\n",
    "\n",
    "hist, bins, idk = pl.hist(dataSignal[\"B0_M\"], color=\"white\", ec=\"magenta\", bins=100, label=\"Pure signal\", histtype='step', density = True)\n",
    "pl.hist(data[\"B0_M\"], color=\"white\", ec=\"turquoise\", bins=100, label=\"With comb\", histtype='step', density = True)\n",
    "\n",
    "#datasets trained together\n",
    "pl.hist(massT, color=\"white\", ec=\"skyblue\", bins=100, label=\"Without comb - together\", histtype='step', density = True)\n",
    "\n",
    "#dataset trained separately\n",
    "pl.hist(mass, color=\"white\", ec=\"purple\", bins=100, label=\"Without comb - separate\", histtype='step', density = True)\n",
    "\n",
    "pl.xlabel(r'm($K^{+}\\pi^{-}\\mu^{+}\\mu^{-}$) [GeV/$c^{2}$]')\n",
    "pl.ylabel('Frequency')\n",
    "sns.kdeplot(dataSignal[\"B0_M\"], color = 'green', bw = 0.1)\n",
    "sns.kdeplot(data[\"B0_M\"], color = 'red', bw = 0.1)\n",
    "pl.legend()\n",
    "pl.show()"
   ]
  },
  {
   "cell_type": "code",
   "execution_count": null,
   "metadata": {},
   "outputs": [],
   "source": []
  }
 ],
 "metadata": {
  "kernelspec": {
   "display_name": "Python 3",
   "language": "python",
   "name": "python3"
  },
  "language_info": {
   "codemirror_mode": {
    "name": "ipython",
    "version": 3
   },
   "file_extension": ".py",
   "mimetype": "text/x-python",
   "name": "python",
   "nbconvert_exporter": "python",
   "pygments_lexer": "ipython3",
   "version": "3.8.3"
  }
 },
 "nbformat": 4,
 "nbformat_minor": 5
}
